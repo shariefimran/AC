{
 "cells": [
  {
   "cell_type": "code",
   "execution_count": 39,
   "metadata": {},
   "outputs": [
    {
     "name": "stdout",
     "output_type": "stream",
     "text": [
      "[1 2 3]\n",
      "[2 3 4]\n",
      "[ 1.  1.  1.]\n",
      "[ 0.  1.  2.]\n",
      "[1 4 9]\n",
      "[False  True  True]\n",
      "[1 2 3] [ 1.  1.  1.]\n",
      "[ True  True  True]\n",
      "[ True  True  True]\n"
     ]
    }
   ],
   "source": [
    "import numpy as np\n",
    "\n",
    "a=np.array([1,2,3])\n",
    "\n",
    "print(a)\n",
    "\n",
    "print(a+1) # this will add one to array\n",
    "\n",
    "b=np.ones(3)\n",
    "\n",
    "print(b)\n",
    "print(a-b)\n",
    "\n",
    "print(a*a)\n",
    "\n",
    "print(a>b) # returs array of elements with arrayvalueof T or F\n",
    "\n",
    "print(a,b)\n",
    "\n",
    "np.array_equal(a,b) # this will return Bool value\n",
    "print(np.logical_and(a,b))\n",
    "print(np.logical_or(a,b))"
   ]
  },
  {
   "cell_type": "markdown",
   "metadata": {},
   "source": [
    "# Logical operators"
   ]
  },
  {
   "cell_type": "code",
   "execution_count": 38,
   "metadata": {},
   "outputs": [
    {
     "name": "stdout",
     "output_type": "stream",
     "text": [
      "[False  True False  True]\n",
      "[ True  True False  True]\n",
      "[ 3  4 25]\n",
      "[ 6 26]\n",
      "5\n",
      "0\n",
      "True\n",
      "False\n"
     ]
    }
   ],
   "source": [
    "import numpy as np\n",
    "a=np.array([1,1,0,1])\n",
    "b=np.array([0,1,0,1])\n",
    "\n",
    "print(np.logical_and(a,b))\n",
    "print(np.logical_or(a,b))\n",
    "\n",
    "np.sin(a)\n",
    "np.cos(a)\n",
    "\n",
    "\n",
    "np.sum(a)\n",
    "\n",
    "a=np.array([[1,2,3,],[2,2,22]])\n",
    "\n",
    "print(a.sum(axis=0)) # column wise sum\n",
    "print(a.sum(axis=1)) # row wise sum\n",
    "\n",
    "a.min()\n",
    "a.max()\n",
    "\n",
    "print(a.argmax()) # gives index of max item\n",
    "print(a.argmin()) # gives index of min item\n",
    "\n",
    "print(np.any([True,False])) # returns if atleast one is true\n",
    "print(np.any([False,False])) # returns if atleast one is true\n",
    "\n",
    "print(np.any(a>2)) # returns true if contains atleast one element "
   ]
  },
  {
   "cell_type": "code",
   "execution_count": 40,
   "metadata": {},
   "outputs": [
    {
     "data": {
      "text/plain": [
       "True"
      ]
     },
     "execution_count": 40,
     "metadata": {},
     "output_type": "execute_result"
    }
   ],
   "source": [
    "a=np.array([1,2,3])\n",
    "b=np.array([4,5,6])\n",
    "c=np.array([7,8,9])\n",
    "\n",
    "((a<=b) & (b<=c)).all() # this will do [T,T,T] & [T,T,T] -> [T,T,T].all()-> Gives True"
   ]
  },
  {
   "cell_type": "markdown",
   "metadata": {},
   "source": [
    "# Statistics"
   ]
  },
  {
   "cell_type": "code",
   "execution_count": 43,
   "metadata": {},
   "outputs": [
    {
     "name": "stdout",
     "output_type": "stream",
     "text": [
      "2.0\n",
      "2.0\n"
     ]
    }
   ],
   "source": [
    "x=np.array([1,2,3])\n",
    "y=np.array([1,2,3])\n",
    "\n",
    "print(x.mean())\n",
    "print(np.median(x))"
   ]
  },
  {
   "cell_type": "markdown",
   "metadata": {},
   "source": [
    "# Load file"
   ]
  },
  {
   "cell_type": "code",
   "execution_count": 52,
   "metadata": {},
   "outputs": [
    {
     "name": "stdout",
     "output_type": "stream",
     "text": [
      "[[ 10.  20.  30.  40.]\n",
      " [ 10.  20.  30.  50.]\n",
      " [ 10.  20.  40.  20.]]\n",
      "[[ 10.  10.  10.]\n",
      " [ 20.  20.  20.]\n",
      " [ 30.  30.  40.]\n",
      " [ 40.  50.  20.]]\n",
      "[[ 10.  20.  30.  40.]\n",
      " [ 10.  20.  30.  50.]\n",
      " [ 10.  20.  40.  20.]]\n",
      "[  0.           0.           4.71404521  12.47219129]\n",
      "[ 11.18033989  14.79019946  10.89724736]\n"
     ]
    }
   ],
   "source": [
    "data=np.loadtxt('c:\\\\marks.txt')\n",
    "print(data)\n",
    "print(data.T)\n",
    "print(data)\n",
    "\n",
    "print(data.std(axis=0))\n",
    "print(data.std(axis=1))"
   ]
  },
  {
   "cell_type": "markdown",
   "metadata": {},
   "source": [
    "# Broadcasting "
   ]
  },
  {
   "cell_type": "code",
   "execution_count": 53,
   "metadata": {},
   "outputs": [
    {
     "name": "stdout",
     "output_type": "stream",
     "text": [
      "[[ 1 11 21 31 41 51 61 71 81 91  1 11 21 31 41 51 61 71 81 91]\n",
      " [ 1 11 21 31 41 51 61 71 81 91  1 11 21 31 41 51 61 71 81 91]\n",
      " [ 1 11 21 31 41 51 61 71 81 91  1 11 21 31 41 51 61 71 81 91]]\n"
     ]
    }
   ],
   "source": [
    "print(np.tile(np.arange(1,100,10),(3,2)))"
   ]
  },
  {
   "cell_type": "code",
   "execution_count": null,
   "metadata": {
    "collapsed": true
   },
   "outputs": [],
   "source": []
  }
 ],
 "metadata": {
  "kernelspec": {
   "display_name": "Python 3",
   "language": "python",
   "name": "python3"
  },
  "language_info": {
   "codemirror_mode": {
    "name": "ipython",
    "version": 3
   },
   "file_extension": ".py",
   "mimetype": "text/x-python",
   "name": "python",
   "nbconvert_exporter": "python",
   "pygments_lexer": "ipython3",
   "version": "3.6.3"
  }
 },
 "nbformat": 4,
 "nbformat_minor": 2
}
