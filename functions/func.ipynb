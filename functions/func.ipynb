{
 "cells": [
  {
   "cell_type": "markdown",
   "metadata": {},
   "source": [
    "# Functions\n",
    "\n",
    "__doc__ gives description/doc string\n",
    "scope of local variable is that function only"
   ]
  },
  {
   "cell_type": "code",
   "execution_count": 10,
   "metadata": {},
   "outputs": [
    {
     "name": "stdout",
     "output_type": "stream",
     "text": [
      "local\n",
      "3\n",
      " This gives the sum of the numbers\n"
     ]
    }
   ],
   "source": [
    "glo ='global'\n",
    "\n",
    "def sum(a,b):\n",
    "    \"\"\" This gives the sum of the numbers\"\"\" # This is the doc string \n",
    "    glo='local'\n",
    "    print(glo)\n",
    "    return a+b\n",
    "\n",
    "print(sum(1,2))\n",
    "\n",
    "print(sum.__doc__) #this gives the doc string of the function"
   ]
  },
  {
   "cell_type": "code",
   "execution_count": 24,
   "metadata": {},
   "outputs": [
    {
     "name": "stdout",
     "output_type": "stream",
     "text": [
      "enter a5\n",
      "enter b10\n",
      "5\n"
     ]
    }
   ],
   "source": [
    "# HCF of 2 numbers Highest common factor\n",
    "\n",
    "def HCF(a,b):\n",
    "    \n",
    "    small=b if a>b else a\n",
    "    \n",
    "    for ran in range(1,small+1):\n",
    "        if(a%small==0 and b%small==0):\n",
    "            hcf=ran\n",
    "    return hcf\n",
    "\n",
    "print(HCF(int(input('enter a')),int(input('enter b'))))"
   ]
  },
  {
   "cell_type": "code",
   "execution_count": null,
   "metadata": {
    "collapsed": true
   },
   "outputs": [],
   "source": []
  }
 ],
 "metadata": {
  "kernelspec": {
   "display_name": "Python 3",
   "language": "python",
   "name": "python3"
  },
  "language_info": {
   "codemirror_mode": {
    "name": "ipython",
    "version": 3
   },
   "file_extension": ".py",
   "mimetype": "text/x-python",
   "name": "python",
   "nbconvert_exporter": "python",
   "pygments_lexer": "ipython3",
   "version": "3.6.3"
  }
 },
 "nbformat": 4,
 "nbformat_minor": 2
}
