{
 "cells": [
  {
   "cell_type": "code",
   "execution_count": null,
   "metadata": {},
   "outputs": [
    {
     "name": "stdout",
     "output_type": "stream",
     "text": [
      "> <ipython-input-2-4cab9c9c6987>(7)<module>()\n",
      "-> print(num)\n",
      "(Pdb) p locals()\n",
      "{'__name__': '__main__', '__doc__': 'Automatically created module for IPython interactive environment', '__package__': None, '__loader__': None, '__spec__': None, '__builtin__': <module 'builtins' (built-in)>, '__builtins__': <module 'builtins' (built-in)>, '_ih': ['', 'import pdb\\n\\na=[1,3,4,5,5]\\n\\nfor num in a[1:3]:\\n    pdb.set_trace()\\n    print(num)', 'import pdb\\n\\na=[1,3,4,5,5]\\n\\nfor num in a[1:3]:\\n    pdb.set_trace()\\n    print(num)'], '_oh': {}, '_dh': ['C:\\\\Users\\\\Mekakris\\\\Untitled Folder\\\\functions'], 'In': ['', 'import pdb\\n\\na=[1,3,4,5,5]\\n\\nfor num in a[1:3]:\\n    pdb.set_trace()\\n    print(num)', 'import pdb\\n\\na=[1,3,4,5,5]\\n\\nfor num in a[1:3]:\\n    pdb.set_trace()\\n    print(num)'], 'Out': {}, 'get_ipython': <bound method InteractiveShell.get_ipython of <ipykernel.zmqshell.ZMQInteractiveShell object at 0x05646D50>>, 'exit': <IPython.core.autocall.ZMQExitAutocall object at 0x056813F0>, 'quit': <IPython.core.autocall.ZMQExitAutocall object at 0x056813F0>, '_': '', '__': '', '___': '', '_i': 'import pdb\\n\\na=[1,3,4,5,5]\\n\\nfor num in a[1:3]:\\n    pdb.set_trace()\\n    print(num)', '_ii': '', '_iii': '', '_i1': 'import pdb\\n\\na=[1,3,4,5,5]\\n\\nfor num in a[1:3]:\\n    pdb.set_trace()\\n    print(num)', 'pdb': <module 'pdb' from 'C:\\\\Users\\\\Mekakris\\\\AppData\\\\Local\\\\Continuum\\\\anaconda3\\\\lib\\\\pdb.py'>, 'a': [1, 3, 4, 5, 5], 'num': 3, '_i2': 'import pdb\\n\\na=[1,3,4,5,5]\\n\\nfor num in a[1:3]:\\n    pdb.set_trace()\\n    print(num)'}\n",
      "(Pdb) c\n",
      "3\n",
      "> <ipython-input-2-4cab9c9c6987>(6)<module>()\n",
      "-> pdb.set_trace()\n",
      "(Pdb) p locals(?)\n",
      "*** SyntaxError: invalid syntax\n"
     ]
    }
   ],
   "source": [
    "import pdb\n",
    "\n",
    "a=[1,3,4,5,5]\n",
    "\n",
    "for num in a[1:3]:\n",
    "    pdb.set_trace()\n",
    "    print(num)\n",
    "    \n",
    "# C to continue\n",
    "#q to quit\n",
    "# p locals()\n",
    "# p globals()"
   ]
  },
  {
   "cell_type": "code",
   "execution_count": null,
   "metadata": {
    "collapsed": true
   },
   "outputs": [],
   "source": []
  }
 ],
 "metadata": {
  "kernelspec": {
   "display_name": "Python 3",
   "language": "python",
   "name": "python3"
  },
  "language_info": {
   "codemirror_mode": {
    "name": "ipython",
    "version": 3
   },
   "file_extension": ".py",
   "mimetype": "text/x-python",
   "name": "python",
   "nbconvert_exporter": "python",
   "pygments_lexer": "ipython3",
   "version": "3.6.3"
  }
 },
 "nbformat": 4,
 "nbformat_minor": 2
}
