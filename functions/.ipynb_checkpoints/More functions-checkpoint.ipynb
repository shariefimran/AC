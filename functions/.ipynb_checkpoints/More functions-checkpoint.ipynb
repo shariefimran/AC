{
 "cells": [
  {
   "cell_type": "markdown",
   "metadata": {},
   "source": [
    "# Inbuilt functions"
   ]
  },
  {
   "cell_type": "code",
   "execution_count": 1,
   "metadata": {},
   "outputs": [
    {
     "name": "stdout",
     "output_type": "stream",
     "text": [
      "1\n",
      "True\n",
      "False\n",
      "['__add__', '__class__', '__contains__', '__delattr__', '__delitem__', '__dir__', '__doc__', '__eq__', '__format__', '__ge__', '__getattribute__', '__getitem__', '__gt__', '__hash__', '__iadd__', '__imul__', '__init__', '__init_subclass__', '__iter__', '__le__', '__len__', '__lt__', '__mul__', '__ne__', '__new__', '__reduce__', '__reduce_ex__', '__repr__', '__reversed__', '__rmul__', '__setattr__', '__setitem__', '__sizeof__', '__str__', '__subclasshook__', 'append', 'clear', 'copy', 'count', 'extend', 'index', 'insert', 'pop', 'remove', 'reverse', 'sort']\n",
      "(5, 0)\n"
     ]
    }
   ],
   "source": [
    "print(abs(-1))\n",
    "print(all([1,3,2,3]))\n",
    "print(all([0,3,2,3])) #returns True if all the items are true where 0 is treated as Flase\n",
    "print(dir([1,2,2])) # dir returns all the attributes,functions,variables\n",
    "print(divmod(10,2)) # gives the Quotient and remainder"
   ]
  },
  {
   "cell_type": "markdown",
   "metadata": {},
   "source": [
    "# Enumerate"
   ]
  },
  {
   "cell_type": "code",
   "execution_count": 12,
   "metadata": {},
   "outputs": [
    {
     "name": "stdout",
     "output_type": "stream",
     "text": [
      "0 is key and 1 is val\n",
      "1 is key and 2 is val\n",
      "2 is key and 2 is val\n"
     ]
    }
   ],
   "source": [
    "list1=[1,2,2]\n",
    "\n",
    "for ind,val in enumerate(list): #enumerate is used to list and returns pairs with index and value\n",
    "    print('{0} is key and {1} is val'.format(ind,val))"
   ]
  },
  {
   "cell_type": "markdown",
   "metadata": {},
   "source": [
    "# Filter\n",
    "\n",
    "Used to call the funtions "
   ]
  },
  {
   "cell_type": "markdown",
   "metadata": {},
   "source": [
    "#filter \n",
    "lis=[1,2,3,4,4,4]\n",
    "\n",
    "def eve(a):\n",
    "    if (a%2==0):\n",
    "        return a\n",
    "    \n",
    "evenList=list(filter(eve,lis))\n",
    "\n",
    "print(evenList)"
   ]
  },
  {
   "cell_type": "markdown",
   "metadata": {},
   "source": [
    "# Is Instance\n",
    "\n",
    "Used to check specific type"
   ]
  },
  {
   "cell_type": "code",
   "execution_count": 5,
   "metadata": {},
   "outputs": [
    {
     "name": "stdout",
     "output_type": "stream",
     "text": [
      "True\n"
     ]
    }
   ],
   "source": [
    "lis=[1,2,3]\n",
    "\n",
    "print(isinstance(lis,list))"
   ]
  },
  {
   "cell_type": "markdown",
   "metadata": {},
   "source": [
    "# Map\n",
    "\n",
    "similar to filter and Map is used to apply function to all the values"
   ]
  },
  {
   "cell_type": "code",
   "execution_count": 9,
   "metadata": {},
   "outputs": [
    {
     "name": "stdout",
     "output_type": "stream",
     "text": [
      "[1, 4, 9, 16]\n"
     ]
    }
   ],
   "source": [
    "lis=[1,2,3,4]\n",
    "\n",
    "def power(a):\n",
    "    return a**2\n",
    "\n",
    "new = list(map(power,lis))\n",
    "\n",
    "print(new)"
   ]
  },
  {
   "cell_type": "markdown",
   "metadata": {},
   "source": [
    "# reduce\n",
    "Need to import from functools and applies in subsequent elements\n"
   ]
  },
  {
   "cell_type": "code",
   "execution_count": 12,
   "metadata": {},
   "outputs": [
    {
     "name": "stdout",
     "output_type": "stream",
     "text": [
      "-4\n"
     ]
    }
   ],
   "source": [
    "from functools import reduce\n",
    "red = [1,2,3]\n",
    "\n",
    "def pro(a,b):\n",
    "    return a-b\n",
    "\n",
    "print(reduce(pro,red)) # This applies in all the elements"
   ]
  },
  {
   "cell_type": "code",
   "execution_count": null,
   "metadata": {
    "collapsed": true
   },
   "outputs": [],
   "source": []
  }
 ],
 "metadata": {
  "kernelspec": {
   "display_name": "Python 3",
   "language": "python",
   "name": "python3"
  },
  "language_info": {
   "codemirror_mode": {
    "name": "ipython",
    "version": 3
   },
   "file_extension": ".py",
   "mimetype": "text/x-python",
   "name": "python",
   "nbconvert_exporter": "python",
   "pygments_lexer": "ipython3",
   "version": "3.6.3"
  }
 },
 "nbformat": 4,
 "nbformat_minor": 2
}
