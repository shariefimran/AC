{
 "cells": [
  {
   "cell_type": "code",
   "execution_count": 3,
   "metadata": {},
   "outputs": [
    {
     "name": "stdout",
     "output_type": "stream",
     "text": [
      "3\n",
      "['new', 1, 2, 3, '1']\n",
      "['new', 2, 3, '1']\n",
      "['new', 2, 3, '1', ['temo']]\n",
      "['new', 2, 3, '1', ['temo'], 'temo']\n"
     ]
    }
   ],
   "source": [
    "# List append,insert,remove,extend\n",
    "\n",
    "lis=[1,2,3]\n",
    "\n",
    "print(len(lis))\n",
    "\n",
    "lis.append('1')\n",
    "\n",
    "lis.insert(0,'new')\n",
    "\n",
    "print(lis)\n",
    "\n",
    "lis.remove(1) # based on value and always removes the first occurance\n",
    "\n",
    "print(lis)\n",
    "\n",
    "l1=['temo']\n",
    "\n",
    "lis.append(l1)\n",
    "\n",
    "print(lis) # append will append another list as part and not like items\n",
    "\n",
    "lis.extend(l1) # this way it will extend the list as item from other list\n",
    "print(lis)"
   ]
  },
  {
   "cell_type": "markdown",
   "metadata": {},
   "source": [
    "# Delete will delete from list and returns removed list\n",
    "\n",
    "pop will returns the remvoed item"
   ]
  },
  {
   "cell_type": "code",
   "execution_count": 12,
   "metadata": {},
   "outputs": [
    {
     "name": "stdout",
     "output_type": "stream",
     "text": [
      "[1, 3, 5]\n",
      "5\n",
      "[1, 3]\n"
     ]
    }
   ],
   "source": [
    "lis=[1,2,3,5]\n",
    "\n",
    "del lis[1]\n",
    "\n",
    "print(lis)\n",
    "\n",
    "a = lis.pop(2)\n",
    "\n",
    "print(a)\n",
    "print(lis)"
   ]
  },
  {
   "cell_type": "markdown",
   "metadata": {},
   "source": [
    "# List Keywords \n",
    "\n",
    "in keyword"
   ]
  },
  {
   "cell_type": "code",
   "execution_count": 25,
   "metadata": {},
   "outputs": [
    {
     "name": "stdout",
     "output_type": "stream",
     "text": [
      "True\n"
     ]
    }
   ],
   "source": [
    "lis=['test',1,2018]\n",
    "\n",
    "a = 'test' in lis\n",
    "\n",
    "print(a)"
   ]
  },
  {
   "cell_type": "markdown",
   "metadata": {},
   "source": [
    "# List sort methods\n",
    " "
   ]
  },
  {
   "cell_type": "code",
   "execution_count": 26,
   "metadata": {},
   "outputs": [
    {
     "name": "stdout",
     "output_type": "stream",
     "text": [
      "[4, 3, 1]\n",
      "[1, 3, 4]\n",
      "[4, 3, 1]\n"
     ]
    }
   ],
   "source": [
    "lis=[1,3,4]\n",
    "\n",
    "lis.reverse()\n",
    "\n",
    "print(lis)\n",
    "\n",
    "lis.sort() # Not supported with different datatypes\n",
    "\n",
    "print(lis)\n",
    "\n",
    "a = sorted(lis,reverse=True) # It will not operate on original list. It will return temporary list\n",
    "print(a)"
   ]
  },
  {
   "cell_type": "markdown",
   "metadata": {},
   "source": [
    "# List reference"
   ]
  },
  {
   "cell_type": "code",
   "execution_count": 27,
   "metadata": {},
   "outputs": [
    {
     "name": "stdout",
     "output_type": "stream",
     "text": [
      "[1, 2, 3, 4]\n"
     ]
    }
   ],
   "source": [
    "a=[1,2,3]\n",
    "b=a\n",
    "\n",
    "a.append(4)\n",
    "print(b) #multiple references"
   ]
  },
  {
   "cell_type": "markdown",
   "metadata": {},
   "source": [
    "# string split"
   ]
  },
  {
   "cell_type": "code",
   "execution_count": 30,
   "metadata": {},
   "outputs": [
    {
     "name": "stdout",
     "output_type": "stream",
     "text": [
      "['hai', 'this', 'is', 'ML,', 'training']\n",
      "['hai this is ML', ' training']\n"
     ]
    }
   ],
   "source": [
    "s=\"hai this is ML, training\"\n",
    "\n",
    "a=s.split()\n",
    "b=s.split(',')\n",
    "\n",
    "print(a) #by default takes the space as the split param\n",
    "print(b)"
   ]
  },
  {
   "cell_type": "markdown",
   "metadata": {},
   "source": [
    "# string range or slice"
   ]
  },
  {
   "cell_type": "code",
   "execution_count": 32,
   "metadata": {},
   "outputs": [
    {
     "name": "stdout",
     "output_type": "stream",
     "text": [
      "[3, 4, 5]\n"
     ]
    }
   ],
   "source": [
    "a=[1,2,3,4,5]\n",
    "\n",
    "print(a[2:])"
   ]
  },
  {
   "cell_type": "markdown",
   "metadata": {},
   "source": [
    "# list Range with stepsize"
   ]
  },
  {
   "cell_type": "raw",
   "metadata": {},
   "source": []
  },
  {
   "cell_type": "code",
   "execution_count": 33,
   "metadata": {},
   "outputs": [
    {
     "name": "stdout",
     "output_type": "stream",
     "text": [
      "[1, 34]\n"
     ]
    }
   ],
   "source": [
    "lis=[1,2,34,45]\n",
    "\n",
    "print(lis[::2])#start ,end ,stepsize"
   ]
  },
  {
   "cell_type": "markdown",
   "metadata": {},
   "source": [
    "# Adding Lists"
   ]
  },
  {
   "cell_type": "code",
   "execution_count": 34,
   "metadata": {},
   "outputs": [
    {
     "name": "stdout",
     "output_type": "stream",
     "text": [
      "[1, 3, 4, 'asd']\n"
     ]
    }
   ],
   "source": [
    "a=[1,3,4]\n",
    "b=['asd']\n",
    "\n",
    "c=a+b\n",
    "\n",
    "print(c)"
   ]
  },
  {
   "cell_type": "markdown",
   "metadata": {},
   "source": [
    "# List element occurence"
   ]
  },
  {
   "cell_type": "code",
   "execution_count": 36,
   "metadata": {},
   "outputs": [
    {
     "name": "stdout",
     "output_type": "stream",
     "text": [
      "4\n"
     ]
    }
   ],
   "source": [
    "a=[1,2,3,3,4,3,2,232,3]\n",
    "\n",
    "print(a.count(3)) #count gives the occurences"
   ]
  },
  {
   "cell_type": "markdown",
   "metadata": {},
   "source": [
    "# List looping\n"
   ]
  },
  {
   "cell_type": "code",
   "execution_count": 37,
   "metadata": {},
   "outputs": [
    {
     "name": "stdout",
     "output_type": "stream",
     "text": [
      "1\n",
      "2\n",
      "3\n",
      "4\n"
     ]
    }
   ],
   "source": [
    "lis=[1,2,3,4]\n",
    "\n",
    "for a in lis:\n",
    "    print(a)"
   ]
  },
  {
   "cell_type": "markdown",
   "metadata": {},
   "source": [
    "# List comprehension"
   ]
  },
  {
   "cell_type": "code",
   "execution_count": 38,
   "metadata": {},
   "outputs": [
    {
     "name": "stdout",
     "output_type": "stream",
     "text": [
      "[0, 1, 4, 9, 16, 25, 36, 49, 64, 81]\n"
     ]
    }
   ],
   "source": [
    "cou=[i**2 for i in range(10)]\n",
    "\n",
    "print(cou)"
   ]
  },
  {
   "cell_type": "code",
   "execution_count": 41,
   "metadata": {},
   "outputs": [
    {
     "name": "stdout",
     "output_type": "stream",
     "text": [
      "[3, 1, 4]\n",
      "[(3, 4), (1, 2), (4, 5)]\n"
     ]
    }
   ],
   "source": [
    "pos=[-1,-2,3,1,4,-20]\n",
    "\n",
    "posn=[ i for i in pos if i>0]\n",
    "tup=[ (i,i+1) for i in pos if i>0]\n",
    "\n",
    "print(posn)\n",
    "print(tup)"
   ]
  },
  {
   "cell_type": "code",
   "execution_count": null,
   "metadata": {
    "collapsed": true
   },
   "outputs": [],
   "source": []
  }
 ],
 "metadata": {
  "kernelspec": {
   "display_name": "Python 3",
   "language": "python",
   "name": "python3"
  },
  "language_info": {
   "codemirror_mode": {
    "name": "ipython",
    "version": 3
   },
   "file_extension": ".py",
   "mimetype": "text/x-python",
   "name": "python",
   "nbconvert_exporter": "python",
   "pygments_lexer": "ipython3",
   "version": "3.6.4"
  }
 },
 "nbformat": 4,
 "nbformat_minor": 2
}
