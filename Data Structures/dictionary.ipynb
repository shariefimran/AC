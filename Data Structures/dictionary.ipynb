{
 "cells": [
  {
   "cell_type": "markdown",
   "metadata": {},
   "source": [
    "# Dictionary\n",
    "-> Unordered collection of items\n",
    "-> Key value pair"
   ]
  },
  {
   "cell_type": "code",
   "execution_count": 11,
   "metadata": {},
   "outputs": [
    {
     "name": "stdout",
     "output_type": "stream",
     "text": [
      "{'Int': 1, 2: '2'}\n",
      "None\n",
      "{'Int': 1, 2: '2', 'new': 'new'}\n",
      "{'Int': 1, 2: '2', 'new': 'update'}\n"
     ]
    },
    {
     "data": {
      "text/plain": [
       "('new', 'update')"
      ]
     },
     "execution_count": 11,
     "metadata": {},
     "output_type": "execute_result"
    }
   ],
   "source": [
    "it={'Int':1,2:'2'}\n",
    "\n",
    "print(it)\n",
    "\n",
    "# Get item from dict\n",
    "print(it.get('id'))\n",
    "\n",
    "#add new item\n",
    "it['new']='new'\n",
    "\n",
    "print(it)\n",
    "\n",
    "# Update\n",
    "it['new']='update'\n",
    "print(it)\n",
    "\n",
    "\n",
    "#Pop\n",
    "\n",
    "it.pop('Int') #remvoes based on the key\n",
    "it.popitem() #can remove any arbitary \n"
   ]
  },
  {
   "cell_type": "markdown",
   "metadata": {},
   "source": [
    "# Clear and Delete"
   ]
  },
  {
   "cell_type": "code",
   "execution_count": 14,
   "metadata": {},
   "outputs": [
    {
     "name": "stdout",
     "output_type": "stream",
     "text": [
      "{}\n"
     ]
    }
   ],
   "source": [
    "di={1:2,2:3}\n",
    "\n",
    "di.clear()\n",
    "\n",
    "print(di)\n",
    "\n",
    "del di"
   ]
  },
  {
   "cell_type": "markdown",
   "metadata": {},
   "source": [
    "#copy to new dic"
   ]
  },
  {
   "cell_type": "code",
   "execution_count": 23,
   "metadata": {},
   "outputs": [
    {
     "name": "stdout",
     "output_type": "stream",
     "text": [
      "{1: 1, 2: 2, 3: 3}\n",
      "dict_keys([1, 2, 3])\n",
      "dict_items([(1, 1), (2, 2), (3, 3)])\n",
      "dict_values([1, 2, 3])\n"
     ]
    }
   ],
   "source": [
    "sub={1:1,2:2,3:3}.copy()\n",
    "\n",
    "print(sub)\n",
    "\n",
    "print(sub.keys())\n",
    "print(sub.items())\n",
    "print(sub.values())"
   ]
  },
  {
   "cell_type": "code",
   "execution_count": 26,
   "metadata": {},
   "outputs": [
    {
     "name": "stdout",
     "output_type": "stream",
     "text": [
      "{1: 2, 2: 3}\n"
     ]
    }
   ],
   "source": [
    "# Dictionary Comprehensions\n",
    "dict={1:2,2:3}\n",
    "\n",
    "new={k:v  for k,v in dict.items() if v>1}\n",
    "\n",
    "print(new)"
   ]
  },
  {
   "cell_type": "code",
   "execution_count": null,
   "metadata": {
    "collapsed": true
   },
   "outputs": [],
   "source": []
  }
 ],
 "metadata": {
  "kernelspec": {
   "display_name": "Python 3",
   "language": "python",
   "name": "python3"
  },
  "language_info": {
   "codemirror_mode": {
    "name": "ipython",
    "version": 3
   },
   "file_extension": ".py",
   "mimetype": "text/x-python",
   "name": "python",
   "nbconvert_exporter": "python",
   "pygments_lexer": "ipython3",
   "version": "3.6.4"
  }
 },
 "nbformat": 4,
 "nbformat_minor": 2
}
