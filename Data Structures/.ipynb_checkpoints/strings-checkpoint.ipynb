{
 "cells": [
  {
   "cell_type": "markdown",
   "metadata": {},
   "source": [
    "# strings are immutable"
   ]
  },
  {
   "cell_type": "code",
   "execution_count": 24,
   "metadata": {},
   "outputs": [
    {
     "name": "stdout",
     "output_type": "stream",
     "text": [
      "a\n",
      "a\n",
      "[' ', ' ', ' ', 'a', 'a', 'h', 'h', 'h', 'i', 'i', 'i', 'i', 'k', 'n', 'r', 's', 's', 's', 't']\n",
      "hai this is krishna\n",
      "HAI THIS IS KRISHNA\n",
      "['h', 'i this is krishn', '']\n",
      "hai this is krishnahai this is sra\n",
      "2\n",
      "hai this is krishnahai this is krishna\n",
      "h\n",
      "a\n",
      "i\n",
      " \n",
      "t\n",
      "h\n",
      "i\n",
      "s\n",
      " \n",
      "i\n",
      "s\n",
      " \n",
      "s\n",
      "r\n",
      "a\n",
      "h#a#i# #t#h#i#s# #i#s# #s#r#a\n",
      "te this is sra\n",
      "palindrome\n"
     ]
    }
   ],
   "source": [
    "str = 'hai this is krishna'\n",
    "str1 = 'hai this is sra'\n",
    "\n",
    "print(str[1])\n",
    "print(str[1:2])\n",
    "\n",
    "print(sorted(str))\n",
    "\n",
    "print(str.lower())\n",
    "print(str.upper())\n",
    "print(str.split('a'))\n",
    "\n",
    "print(str+str1)\n",
    "\n",
    "print(str.count('a'))\n",
    "\n",
    "print(str*2)\n",
    "\n",
    "\n",
    "del str\n",
    "\n",
    "for s in str1:\n",
    "    print( s)\n",
    "    \n",
    "print('#'.join(str1))\n",
    "\n",
    "\n",
    "print(str1.replace('hai','te'))\n",
    "\n",
    "\n",
    "#palindrome\n",
    "\n",
    "pal=\"Madam\"\n",
    "\n",
    "pal=pal.lower()\n",
    "\n",
    "pal1=reversed(pal)\n",
    "\n",
    "if(list(pal1)==list(pal)):\n",
    "    print('palindrome')\n",
    "else:\n",
    "    print('not')"
   ]
  },
  {
   "cell_type": "code",
   "execution_count": null,
   "metadata": {
    "collapsed": true
   },
   "outputs": [],
   "source": []
  }
 ],
 "metadata": {
  "kernelspec": {
   "display_name": "Python 3",
   "language": "python",
   "name": "python3"
  },
  "language_info": {
   "codemirror_mode": {
    "name": "ipython",
    "version": 3
   },
   "file_extension": ".py",
   "mimetype": "text/x-python",
   "name": "python",
   "nbconvert_exporter": "python",
   "pygments_lexer": "ipython3",
   "version": "3.6.3"
  }
 },
 "nbformat": 4,
 "nbformat_minor": 2
}
