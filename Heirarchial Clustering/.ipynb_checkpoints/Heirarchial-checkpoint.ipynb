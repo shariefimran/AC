{
 "cells": [
  {
   "cell_type": "markdown",
   "metadata": {},
   "source": [
    "# Agglomerative/divisive clustering\n",
    "\n",
    "\n",
    "    -> Agglomerative is a good alternative to K-means\n",
    "\n",
    "# Agglomerative Clustering Algorithm\n",
    "\n",
    "    -> Create proximity matrix\n",
    "    -> loop\n",
    "        merge 2 closet clusters and update proximity matrix repeat this until only 1 cluster remains\n",
    "    \n",
    "    \n",
    "    How to calculate the proximity of the clusters? \n",
    "\n",
    "# Advantages and Limitations\n",
    "\n",
    "## How to determine Proximity of clusters?\n",
    "\n",
    "Min ,Max,Centroid-> Distance b/w points of the cluster\n",
    "Min -> Min distance of P1,P2 from c1,c2 respectively\n",
    "Max-> Max of distance\n",
    "Group Average-> Take every pair and distance and compute average.\n",
    "\n",
    "Limitations of Min-> Sensitive to Outliers\n",
    "\n",
    "    Limitations of Max-> Tends to break large clusters and biased towards globular cluster\n",
    "    \n",
    "\n",
    "\n",
    "## Space Complexity\n",
    "    -> O(n^2)\n",
    "## Time Complexity\n",
    "    -> O(n^3)\n",
    "    \n",
    " \n",
    " \n",
    " \n",
    " This is not best when dimensios are more\n",
    " \n",
    " \n",
    " \n",
    " # Limitation of Clustering\n",
    " \n",
    " -> No Mathematical formulation"
   ]
  }
 ],
 "metadata": {
  "kernelspec": {
   "display_name": "Python 3",
   "language": "python",
   "name": "python3"
  },
  "language_info": {
   "codemirror_mode": {
    "name": "ipython",
    "version": 3
   },
   "file_extension": ".py",
   "mimetype": "text/x-python",
   "name": "python",
   "nbconvert_exporter": "python",
   "pygments_lexer": "ipython3",
   "version": "3.6.4"
  }
 },
 "nbformat": 4,
 "nbformat_minor": 2
}
