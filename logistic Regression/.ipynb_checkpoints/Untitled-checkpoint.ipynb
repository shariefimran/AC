{
 "cells": [
  {
   "cell_type": "markdown",
   "metadata": {},
   "source": [
    "# Logistic Regression\n",
    "\n",
    "Its a classification technique"
   ]
  },
  {
   "cell_type": "markdown",
   "metadata": {},
   "source": [
    "Line,Plane -> Leniar Surface\n",
    "Circle,Parabola-> Quadratic Surface\n",
    "\n",
    "Assumption of logistic Regression-> Classes are almost leniarly seperable\n",
    "\n",
    "Task is to find plane with y=mx+c"
   ]
  },
  {
   "cell_type": "markdown",
   "metadata": {},
   "source": [
    "WtXi>0 then xi is +ve \n",
    "WtXi<0 then xi is -ve\n",
    "\n",
    "Maximise the sum of signed distances\n",
    "Find Right PI(plane) and right W\n",
    "As we are using signed distance and outlier impact will be more. To overcome this we need a approach called SQUASHING\n",
    "\n",
    "SQUASHING\n",
    "\n",
    "If signed distance is small dont change much\n",
    "If distance is more then minimize it. Its called squashing\\\n",
    "\n",
    "After some value taper it off\n",
    "\n",
    "Sigmoid Function- > Sigma(x)\n",
    "\n",
    "We can use other function but sigma is easy\n",
    "\n",
    "This is a optimization problem\n",
    "\n",
    "Monotoic functions\n",
    "\n",
    "If g(x) is monotonic\n",
    "\n",
    "argmin f(x)=argmin g(f(x))\n",
    "argmax f(x)=argmax g(f(x))\n",
    "\n",
    "\n",
    "\n",
    "Regularization in optimization problem\n",
    "\n",
    "when lamda=0 overfitting\n",
    "when lamda is large underfitting\n",
    "\n",
    "Get right lamda using corss valdiation\n",
    "\n",
    "\n",
    "L1 Reguralization created sparcity as compared to l2\n",
    "\n",
    "Elastic Net\n",
    "\n",
    "Logistic Regression -> Guassian Naive Bayess + Bernoulii\n",
    "\n",
    "Loss Function -> Logistics Loss -> Logistic Regressin\n",
    "Hinge Loss -> Support Vector Machine\n"
   ]
  }
 ],
 "metadata": {
  "kernelspec": {
   "display_name": "Python 3",
   "language": "python",
   "name": "python3"
  },
  "language_info": {
   "codemirror_mode": {
    "name": "ipython",
    "version": 3
   },
   "file_extension": ".py",
   "mimetype": "text/x-python",
   "name": "python",
   "nbconvert_exporter": "python",
   "pygments_lexer": "ipython3",
   "version": "3.6.4"
  }
 },
 "nbformat": 4,
 "nbformat_minor": 2
}
