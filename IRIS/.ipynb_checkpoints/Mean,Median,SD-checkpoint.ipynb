{
 "cells": [
  {
   "cell_type": "markdown",
   "metadata": {},
   "source": [
    "# Mean Standard deviation and Variance"
   ]
  },
  {
   "cell_type": "code",
   "execution_count": 10,
   "metadata": {},
   "outputs": [
    {
     "name": "stdout",
     "output_type": "stream",
     "text": [
      "---Mean---\n",
      "sepal_length    5.006\n",
      "sepal_width     3.418\n",
      "petal_length    1.464\n",
      "petal_width     0.244\n",
      "dtype: float64\n",
      "\n",
      "---Vairance---\n",
      "sepal_length    0.121764\n",
      "sepal_width     0.142276\n",
      "petal_length    0.029504\n",
      "petal_width     0.011264\n",
      "dtype: float64\n",
      "\n",
      "---Standard Deviation---\n",
      "sepal_length    0.348947\n",
      "sepal_width     0.377195\n",
      "petal_length    0.171767\n",
      "petal_width     0.106132\n",
      "dtype: float64\n"
     ]
    }
   ],
   "source": [
    "import numpy as np\n",
    "\n",
    "import pandas as pd\n",
    "\n",
    "\n",
    "iris=pd.read_csv(\"C:\\\\Users\\\\Mekakris\\\\Documents\\\\AC\\\\iris.csv\")\n",
    "\n",
    "iris_setosa=iris[iris[\"species\"]==\"setosa\"]\n",
    "iris_virginica=iris[iris[\"species\"]==\"virginica\"]\n",
    "iris_versicolor=iris[iris[\"species\"]==\"versicolor\"]\n",
    "\n",
    "print('---Mean---')\n",
    "print(np.mean(iris_setosa))\n",
    "print()\n",
    "\n",
    "#variance gives the distance of each point for the mean.\n",
    "print('---Vairance---')\n",
    "print(np.var(iris_setosa))\n",
    "print()\n",
    "\n",
    "\n",
    "\n",
    "#Standard deviation gives the spread of the data. We can say using plot.\n",
    "#With out plot we can say using standard deviation\n",
    "print('---Standard Deviation---')\n",
    "print(np.std(iris_setosa))\n",
    "\n",
    "#variance is proportional to standard deviation\n"
   ]
  },
  {
   "cell_type": "markdown",
   "metadata": {},
   "source": [
    "#  Median \n",
    "\n",
    "It doesnt have issue with outlier which happes with mean\n",
    "\n",
    "Median-Sort the elements and take the middle\n",
    "\n",
    "Even numbers Average of n/2,n2/+1\n",
    "Odd  numbers Middle number\n",
    "\n"
   ]
  },
  {
   "cell_type": "code",
   "execution_count": 18,
   "metadata": {},
   "outputs": [
    {
     "name": "stdout",
     "output_type": "stream",
     "text": [
      "---Median---\n",
      "5.0\n",
      "\n",
      "---Outlier---\n",
      "5.0\n",
      "\n"
     ]
    }
   ],
   "source": [
    "\n",
    "print('---Median---')\n",
    "print(np.median(iris_setosa[\"sepal_length\"]))\n",
    "print()\n",
    "\n",
    "print('---Outlier---')\n",
    "print(np.median(np.append(iris_setosa[\"sepal_length\"],50)))\n",
    "print()\n"
   ]
  },
  {
   "cell_type": "markdown",
   "metadata": {},
   "source": [
    "# Percentile and Quantile\n",
    "\n",
    "Percentile -> Similar to Percentile in ranks\n",
    "10th percentile->10% of items are less than this."
   ]
  },
  {
   "cell_type": "code",
   "execution_count": 27,
   "metadata": {},
   "outputs": [
    {
     "name": "stdout",
     "output_type": "stream",
     "text": [
      "[4.3 4.8 5.  5.2]\n",
      "5.41\n"
     ]
    }
   ],
   "source": [
    "#Gives percentile with 25 page until 100\n",
    "print(np.percentile(iris_setosa[\"sepal_length\"],np.arange(0,100,25)))\n",
    "\n",
    "#Gives 90th percentile\n",
    "print(np.percentile(iris_setosa[\"sepal_length\"],90))\n",
    "\n"
   ]
  },
  {
   "cell_type": "markdown",
   "metadata": {},
   "source": [
    "# Median absolute deviation\n",
    "\n",
    "Distance from all points to median"
   ]
  },
  {
   "cell_type": "code",
   "execution_count": 31,
   "metadata": {},
   "outputs": [
    {
     "name": "stdout",
     "output_type": "stream",
     "text": [
      "0.29652044370112063\n"
     ]
    }
   ],
   "source": [
    "from statsmodels import robust\n",
    "\n",
    "print(robust.mad(iris_setosa[\"sepal_length\"]))"
   ]
  },
  {
   "cell_type": "markdown",
   "metadata": {},
   "source": [
    "# Inter quantile range\n",
    "\n",
    "Difference between the percentiles\n",
    "\n",
    "Similar to Standard deviation"
   ]
  },
  {
   "cell_type": "code",
   "execution_count": null,
   "metadata": {},
   "outputs": [],
   "source": []
  }
 ],
 "metadata": {
  "kernelspec": {
   "display_name": "Python 3",
   "language": "python",
   "name": "python3"
  },
  "language_info": {
   "codemirror_mode": {
    "name": "ipython",
    "version": 3
   },
   "file_extension": ".py",
   "mimetype": "text/x-python",
   "name": "python",
   "nbconvert_exporter": "python",
   "pygments_lexer": "ipython3",
   "version": "3.6.4"
  }
 },
 "nbformat": 4,
 "nbformat_minor": 2
}
