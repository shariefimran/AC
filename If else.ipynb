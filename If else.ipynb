{
 "cells": [
  {
   "cell_type": "code",
   "execution_count": 10,
   "metadata": {},
   "outputs": [
    {
     "name": "stdout",
     "output_type": "stream",
     "text": [
      "Greater\n",
      "all are not equal\n"
     ]
    }
   ],
   "source": [
    "a=13\n",
    "\n",
    "if a>10:\n",
    "    if(a>11):\n",
    "        print('Greater')    \n",
    "elif a<10: # This will be taken as else if\n",
    "    print('Not equal')\n",
    "else:\n",
    "    print('NQ')\n",
    "    \n",
    "if None or 0:\n",
    "    print('Empty Values in python')\n",
    "else:\n",
    "    print('all are not equal')\n"
   ]
  },
  {
   "cell_type": "code",
   "execution_count": null,
   "metadata": {
    "collapsed": true
   },
   "outputs": [],
   "source": []
  }
 ],
 "metadata": {
  "kernelspec": {
   "display_name": "Python 3",
   "language": "python",
   "name": "python3"
  },
  "language_info": {
   "codemirror_mode": {
    "name": "ipython",
    "version": 3
   },
   "file_extension": ".py",
   "mimetype": "text/x-python",
   "name": "python",
   "nbconvert_exporter": "python",
   "pygments_lexer": "ipython3",
   "version": "3.6.3"
  }
 },
 "nbformat": 4,
 "nbformat_minor": 2
}
