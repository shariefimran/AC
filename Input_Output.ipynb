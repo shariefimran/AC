{
 "cells": [
  {
   "cell_type": "code",
   "execution_count": 4,
   "metadata": {},
   "outputs": [
    {
     "name": "stdout",
     "output_type": "stream",
     "text": [
      "cost of a is 10 and b is 20\n",
      "cost of a is 20 and b is 10\n",
      "cost of a is 10 and b is 20\n",
      "cost of temp is 10 a is 10 and b is 20\n"
     ]
    }
   ],
   "source": [
    "a=10;b=20\n",
    "\n",
    "print(\"cost of a is {} and b is {}\".format(a,b))\n",
    "\n",
    "print(\"cost of a is {1} and b is {0}\".format(a,b))\n",
    "\n",
    "print(\"cost of a is {a} and b is {b}\".format(a=a,b=b))\n",
    "\n",
    "print(\"cost of temp is {} a is {a} and b is {b}\".format(a,a=a,b=b))"
   ]
  },
  {
   "cell_type": "code",
   "execution_count": 1,
   "metadata": {},
   "outputs": [
    {
     "name": "stdout",
     "output_type": "stream",
     "text": [
      "Enter your nameKrishna\n",
      "Krishna\n"
     ]
    }
   ],
   "source": [
    "Name=input('Enter your name')\n",
    "print(Name)"
   ]
  },
  {
   "cell_type": "code",
   "execution_count": null,
   "metadata": {
    "collapsed": true
   },
   "outputs": [],
   "source": []
  }
 ],
 "metadata": {
  "kernelspec": {
   "display_name": "Python 3",
   "language": "python",
   "name": "python3"
  },
  "language_info": {
   "codemirror_mode": {
    "name": "ipython",
    "version": 3
   },
   "file_extension": ".py",
   "mimetype": "text/x-python",
   "name": "python",
   "nbconvert_exporter": "python",
   "pygments_lexer": "ipython3",
   "version": "3.6.4"
  }
 },
 "nbformat": 4,
 "nbformat_minor": 2
}
