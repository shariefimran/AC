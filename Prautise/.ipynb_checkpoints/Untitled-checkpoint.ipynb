{
 "cells": [
  {
   "cell_type": "code",
   "execution_count": 2,
   "metadata": {},
   "outputs": [],
   "source": [
    "import sqlite3\n",
    "import pandas as pd\n",
    "\n",
    "con = sqlite3.connect('C:\\\\Users\\\\Mekakris\\\\Documents\\\\AC\\\\Prautise\\\\final.sqlite')\n",
    "\n",
    "data = pd.read_sql_query(\"select * from PractiseCleanedReviews where score!=3\",con)"
   ]
  },
  {
   "cell_type": "markdown",
   "metadata": {},
   "source": [
    "# Apply tfidf and get the standard data for the model"
   ]
  },
  {
   "cell_type": "code",
   "execution_count": 8,
   "metadata": {},
   "outputs": [
    {
     "name": "stdout",
     "output_type": "stream",
     "text": [
      "  (0, 5558)\t0.0648498929078147\n",
      "  (0, 16240)\t0.1623945481702028\n",
      "  (0, 5852)\t0.08541237199236139\n",
      "  (0, 17329)\t0.08541237199236139\n",
      "  (0, 15907)\t0.11074152589745864\n",
      "  (0, 9291)\t0.08023207411285002\n",
      "  (0, 13974)\t0.0499892611220066\n",
      "  (0, 18619)\t0.08541237199236139\n",
      "  (0, 4042)\t0.2265977915618577\n",
      "  (0, 5958)\t0.05124694986082997\n",
      "  (0, 6778)\t0.03828255975504862\n",
      "  (0, 5936)\t0.07137629639526132\n",
      "  (0, 9941)\t0.04507794552689668\n",
      "  (0, 19338)\t0.08541237199236139\n",
      "  (0, 4255)\t0.08023207411285002\n",
      "  (0, 2059)\t0.08541237199236139\n",
      "  (0, 22044)\t0.05966959502830334\n",
      "  (0, 22154)\t0.06663398551058954\n",
      "  (0, 12685)\t0.06619599851574993\n",
      "  (0, 5204)\t0.06363219226610012\n",
      "  (0, 15119)\t0.08541237199236139\n",
      "  (0, 22298)\t0.0765565942747727\n",
      "  (0, 10669)\t0.08023207411285002\n",
      "  (0, 193)\t0.12299575621751199\n",
      "  (0, 9759)\t0.05124694986082997\n",
      "  :\t:\n",
      "  (0, 14483)\t0.08541237199236139\n",
      "  (0, 4813)\t0.08541237199236139\n",
      "  (0, 16782)\t0.08541237199236139\n",
      "  (0, 16404)\t0.08023207411285002\n",
      "  (0, 23743)\t0.0765565942747727\n",
      "  (0, 19520)\t0.07370567062540341\n",
      "  (0, 23475)\t0.08541237199236139\n",
      "  (0, 17139)\t0.08541237199236139\n",
      "  (0, 16660)\t0.08541237199236139\n",
      "  (0, 16797)\t0.08541237199236139\n",
      "  (0, 10474)\t0.08541237199236139\n",
      "  (0, 8690)\t0.08023207411285002\n",
      "  (0, 14377)\t0.07370567062540341\n",
      "  (0, 14876)\t0.08541237199236139\n",
      "  (0, 1184)\t0.08541237199236139\n",
      "  (0, 8426)\t0.08541237199236139\n",
      "  (0, 15118)\t0.08541237199236139\n",
      "  (0, 12217)\t0.0765565942747727\n",
      "  (0, 4051)\t0.08541237199236139\n",
      "  (0, 8682)\t0.08541237199236139\n",
      "  (0, 1269)\t0.08541237199236139\n",
      "  (0, 21882)\t0.08541237199236139\n",
      "  (0, 5278)\t0.0765565942747727\n",
      "  (0, 11391)\t0.08541237199236139\n",
      "  (0, 4342)\t0.08541237199236139\n"
     ]
    }
   ],
   "source": [
    "from sklearn.feature_extraction.text import TfidfVectorizer\n",
    "from sklearn.manifold import TSNE\n",
    "import numpy as np\n",
    "from sklearn.preprocessing import StandardScaler\n",
    "\n",
    "\n",
    "count_vect = TfidfVectorizer(ngram_range=(1,2))# -> this is for normal text vector\\\n",
    "\n",
    "labels=data['Score'].values\n",
    "\n",
    "final=count_vect.fit_transform(data['Text'].values)\n",
    "standardized_data = StandardScaler(with_mean=False).fit_transform(final)\\\n"
   ]
  },
  {
   "cell_type": "markdown",
   "metadata": {},
   "source": [
    "# Split the train and the test data"
   ]
  },
  {
   "cell_type": "code",
   "execution_count": 73,
   "metadata": {},
   "outputs": [],
   "source": [
    "from sklearn.model_selection import train_test_split\n",
    "\n",
    "x, x_test, y, y_test = train_test_split(standardized_data,labels,test_size=0.2,train_size=0.8)\n",
    "x_train, x_cv, y_train, y_cv = train_test_split(x,y,test_size = 0.20,train_size =0.80)"
   ]
  },
  {
   "cell_type": "markdown",
   "metadata": {},
   "source": [
    "# K-NN MODEL"
   ]
  },
  {
   "cell_type": "code",
   "execution_count": 69,
   "metadata": {
    "scrolled": true
   },
   "outputs": [],
   "source": [
    "from sklearn.neighbors import KNeighborsClassifier as knn\n",
    "from sklearn.model_selection import cross_val_score\n",
    "from sklearn.metrics import accuracy_score,precision_score,recall_score,f1_score\n",
    "\n",
    "for k in range(300):\n",
    "    knnmodel=knn(n_neighbors=k+2)\n",
    "\n",
    "    knnmodel.fit(x_train,y_train)\n",
    "\n",
    "    predicted=knnmodel.predict(x_cv)\n",
    "    prob=knnmodel.predict_proba(x_cv)\n",
    "\n",
    "    #print(prob)\n",
    "    #print('k=',k,'Accuracy=',accuracy_score( y_cv,predicted, normalize=False))\n",
    "    \n",
    "    y_cv_temp=[]\n",
    "    predicted_temp=[]\n",
    "    \n",
    "    for a in range(y_cv.shape[0]):\n",
    "        y_cv_temp.append(1 if y_cv[0]=='positive' else 0)\n",
    "        predicted_temp.append(1 if predicted[0]=='positive' else 0)\n",
    "\n",
    "    #print('k=',k,'Precision=',precision_score( y_cv_temp,predicted_temp))\n",
    "    #print('k=',k,'Recall=',recall_score( y_cv_temp,predicted_temp))\n",
    "\n",
    "\n"
   ]
  },
  {
   "cell_type": "code",
   "execution_count": null,
   "metadata": {},
   "outputs": [],
   "source": [
    "# KNN INTERPRETABILITY\n",
    "\n",
    "\n",
    "\n",
    "neigh = NearestNeighbors(n_neighbors=21)\n",
    "neigh.fit(x_train) \n",
    "\n",
    "NearestNeighbors(algorithm='auto', leaf_size=30)\n",
    "NearestNeighbors(algorithm='auto', leaf_size=30, ...)"
   ]
  },
  {
   "cell_type": "markdown",
   "metadata": {},
   "source": [
    "# Naive Bayes Algo\n",
    "\n",
    "    Assuming data has Guassian distribution data we used below\n",
    "    For multinomail distributed data we need to hyper param ALPhA(FIX IS BY CValiadtion)\n",
    "    check for bernouli distributed data also\n",
    "\n"
   ]
  },
  {
   "cell_type": "code",
   "execution_count": 76,
   "metadata": {},
   "outputs": [
    {
     "name": "stdout",
     "output_type": "stream",
     "text": [
      "51\n"
     ]
    }
   ],
   "source": [
    "from sklearn.naive_bayes import GaussianNB\n",
    "from scipy.sparse import csr_matrix\n",
    "gnb = GaussianNB()\n",
    "\n",
    "x_train_dense=csr_matrix.todense(x_train)\n",
    "gnb.fit(x_train_dense,y_train)\n",
    "\n",
    "x_cv_dense=csr_matrix.todense(x_cv)\n",
    "\n",
    "\n",
    "\n",
    "predicted=gnb.predict(x_cv_dense)\n",
    "prob=gnb.predict_proba(x_cv_dense)\n",
    "\n",
    "print(accuracy_score( y_cv,predicted, normalize=False))"
   ]
  },
  {
   "cell_type": "markdown",
   "metadata": {},
   "source": [
    "# Lgoistic Regression\n"
   ]
  },
  {
   "cell_type": "code",
   "execution_count": 80,
   "metadata": {},
   "outputs": [
    {
     "name": "stdout",
     "output_type": "stream",
     "text": [
      "65\n"
     ]
    }
   ],
   "source": [
    "from sklearn.linear_model import LogisticRegression as Logistic\n",
    "\n",
    "logr=Logistic()\n",
    "\n",
    "logr.fit(x_train,y_train)\n",
    "\n",
    "predicted=logr.predict(x_cv)\n",
    "prob=logr.predict_proba(x_cv)\n",
    "\n",
    "print(accuracy_score( y_cv,predicted, normalize=False))"
   ]
  },
  {
   "cell_type": "markdown",
   "metadata": {},
   "source": [
    "# Linear Regression"
   ]
  },
  {
   "cell_type": "code",
   "execution_count": 88,
   "metadata": {},
   "outputs": [
    {
     "name": "stdout",
     "output_type": "stream",
     "text": [
      "The exact solution is  x = 0                              \n",
      "94\n"
     ]
    }
   ],
   "source": [
    "# Leniar Regression\n",
    "\n",
    "from sklearn.linear_model import LinearRegression as Linear\n",
    "\n",
    "lnr=Linear()\n",
    "\n",
    "y_train_temp=[]\n",
    "for a in range(y_train.shape[0]):\n",
    "    y_train_temp.append(1 if y_train[0]=='positive' else 0)\n",
    "\n",
    "lnr.fit(x_train,y_train_temp)\n",
    "\n",
    "predicted=lnr.predict(x_cv)\n",
    "\n",
    "y_cv_temp=[]\n",
    "for a in range(y_cv.shape[0]):\n",
    "    y_cv_temp.append(1 if y_train[0]=='positive' else 0)\n",
    "\n",
    "print(accuracy_score( y_cv_temp,predicted, normalize=False))"
   ]
  },
  {
   "cell_type": "code",
   "execution_count": null,
   "metadata": {},
   "outputs": [],
   "source": [
    "# RadomForest Classifier"
   ]
  }
 ],
 "metadata": {
  "kernelspec": {
   "display_name": "Python 3",
   "language": "python",
   "name": "python3"
  },
  "language_info": {
   "codemirror_mode": {
    "name": "ipython",
    "version": 3
   },
   "file_extension": ".py",
   "mimetype": "text/x-python",
   "name": "python",
   "nbconvert_exporter": "python",
   "pygments_lexer": "ipython3",
   "version": "3.6.4"
  }
 },
 "nbformat": 4,
 "nbformat_minor": 2
}
