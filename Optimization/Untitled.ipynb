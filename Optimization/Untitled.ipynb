{
 "cells": [
  {
   "cell_type": "markdown",
   "metadata": {},
   "source": [
    "# Optimization\n",
    "\n",
    "    ->Differentiation means-> Rate at numerator change with respect to denominator\n",
    "        this is same as tangen to f(x) which is same as slope or theta\n",
    "       \n",
    "     Differentiation is simply a rate of change to things\n",
    "     \n",
    "         Important Rule For Machine Learning-> Chain Rule\n",
    " \n",
    " # Maxima and Minima\n",
    " \n",
    "     will have 1 global minina but many local minima\n",
    "     \n",
    "     SGD -> Most important optimization algorithm\n"
   ]
  }
 ],
 "metadata": {
  "kernelspec": {
   "display_name": "Python 3",
   "language": "python",
   "name": "python3"
  },
  "language_info": {
   "codemirror_mode": {
    "name": "ipython",
    "version": 3
   },
   "file_extension": ".py",
   "mimetype": "text/x-python",
   "name": "python",
   "nbconvert_exporter": "python",
   "pygments_lexer": "ipython3",
   "version": "3.6.4"
  }
 },
 "nbformat": 4,
 "nbformat_minor": 2
}
