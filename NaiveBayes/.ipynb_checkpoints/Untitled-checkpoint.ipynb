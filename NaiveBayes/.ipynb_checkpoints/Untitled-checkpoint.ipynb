{
 "cells": [
  {
   "cell_type": "markdown",
   "metadata": {},
   "source": [
    "# Naive Bayes Classification which is based on probability."
   ]
  },
  {
   "cell_type": "markdown",
   "metadata": {},
   "source": [
    "Conditional Probability-> Probabiltiy of something conditioned on fact something has happened.\n",
    "\n",
    "Some thing like Prob(d1=2| given d1+d2<=5) =3/10 where d1 and d2 are dices\n",
    "\n",
    "# Definition of conditional prob: Prob(a intersection b)/prob(b)\n",
    "\n",
    "Probability of A given b already happened given prob b<>0"
   ]
  },
  {
   "cell_type": "markdown",
   "metadata": {},
   "source": [
    "# Independent Events\n",
    "\n",
    "Porb(d1/d2) where a and b are independent events\n",
    "\n",
    "prob(d1/d2)=prob(d1)\n",
    "prob(d2/d=prob(d2)\n",
    "\n",
    "prob(d1) = d1 outcome is 6\n",
    "prob(d2) = d2 outcome is 4\n",
    "\n",
    "# Mutual Exclusive events\n",
    "\n",
    "Prob(a/b) =0 \n",
    "prob(b/a)=0 which mean a intersection and b intersection a are 0"
   ]
  },
  {
   "cell_type": "markdown",
   "metadata": {},
   "source": [
    "#Bayess theorem\n",
    "\n",
    "Joint Probability Model => P(Ck/X)=P(Ck,X)\n",
    "\n",
    "Below formula is based on \n",
    "P(Ck,X)=P(x1,x2,x3....,Ck)=P(x1) * p(x1,(x2,x3...ck)) (by repeatedly applying chain rule and this is definition of conditional probability)\n",
    "\n",
    "Conditional independence\n",
    "\n",
    "Best for Text based classifications\n",
    "\n",
    "\n",
    "Laplace Smoothing in naive bayes"
   ]
  },
  {
   "cell_type": "code",
   "execution_count": null,
   "metadata": {},
   "outputs": [],
   "source": []
  }
 ],
 "metadata": {
  "kernelspec": {
   "display_name": "Python 3",
   "language": "python",
   "name": "python3"
  },
  "language_info": {
   "codemirror_mode": {
    "name": "ipython",
    "version": 3
   },
   "file_extension": ".py",
   "mimetype": "text/x-python",
   "name": "python",
   "nbconvert_exporter": "python",
   "pygments_lexer": "ipython3",
   "version": "3.6.4"
  }
 },
 "nbformat": 4,
 "nbformat_minor": 2
}
