{
 "cells": [
  {
   "cell_type": "code",
   "execution_count": 52,
   "metadata": {},
   "outputs": [
    {
     "name": "stdout",
     "output_type": "stream",
     "text": [
      "(6991, 11)\n"
     ]
    }
   ],
   "source": [
    "import sqlite3\n",
    "import pandas as pd\n",
    "\n",
    "con = sqlite3.connect('C:\\\\Users\\\\Mekakris\\\\Documents\\\\AC\\\\Prautise\\\\deeplearnig.sqlite')\n",
    "\n",
    "data = pd.read_sql_query(\"select * from PractiseCleanedReviews where score!=3\",con)\n",
    "\n",
    "print(data.shape)\n",
    "\n",
    "\n",
    "def parition(x):\n",
    "    if x=='positive':\n",
    "        return 1\n",
    "    return 0\n",
    "\n",
    "actualscore=data['Score']\n",
    "\n",
    "positiveNegative=actualscore.map(parition)\n",
    "\n",
    "data['Score']=positiveNegative"
   ]
  },
  {
   "cell_type": "markdown",
   "metadata": {},
   "source": [
    "# Apply tfidf and get the standard data for the model"
   ]
  },
  {
   "cell_type": "code",
   "execution_count": 53,
   "metadata": {},
   "outputs": [],
   "source": [
    "from sklearn.feature_extraction.text import TfidfVectorizer\n",
    "from sklearn.manifold import TSNE\n",
    "import numpy as np\n",
    "from sklearn.preprocessing import StandardScaler\n",
    "\n",
    "\n",
    "count_vect = TfidfVectorizer(ngram_range=(1,2),max_features=5000)# -> this is for normal text vector\\\n",
    "\n",
    "labels=data['Score'].values\n",
    "\n",
    "final=count_vect.fit_transform(data['Text'].values)\n",
    "standardized_data = StandardScaler(with_mean=False).fit_transform(final)\n"
   ]
  },
  {
   "cell_type": "markdown",
   "metadata": {},
   "source": [
    "# Keras with TF-IDF"
   ]
  },
  {
   "cell_type": "code",
   "execution_count": 60,
   "metadata": {},
   "outputs": [
    {
     "name": "stdout",
     "output_type": "stream",
     "text": [
      "(6991, 5000)\n",
      "(6991,)\n"
     ]
    }
   ],
   "source": [
    "print(standardized_data.shape)\n",
    "print(labels.shape)"
   ]
  },
  {
   "cell_type": "markdown",
   "metadata": {},
   "source": [
    "# Model Parameters"
   ]
  },
  {
   "cell_type": "code",
   "execution_count": 79,
   "metadata": {},
   "outputs": [
    {
     "name": "stdout",
     "output_type": "stream",
     "text": [
      "_________________________________________________________________\n",
      "Layer (type)                 Output Shape              Param #   \n",
      "=================================================================\n",
      "dense_67 (Dense)             (None, 5000)              25005000  \n",
      "_________________________________________________________________\n",
      "activation_65 (Activation)   (None, 5000)              0         \n",
      "_________________________________________________________________\n",
      "dropout_44 (Dropout)         (None, 5000)              0         \n",
      "_________________________________________________________________\n",
      "dense_68 (Dense)             (None, 1000)              5001000   \n",
      "_________________________________________________________________\n",
      "activation_66 (Activation)   (None, 1000)              0         \n",
      "_________________________________________________________________\n",
      "dropout_45 (Dropout)         (None, 1000)              0         \n",
      "_________________________________________________________________\n",
      "dense_69 (Dense)             (None, 2)                 2002      \n",
      "_________________________________________________________________\n",
      "activation_67 (Activation)   (None, 2)                 0         \n",
      "=================================================================\n",
      "Total params: 30,008,002\n",
      "Trainable params: 30,008,002\n",
      "Non-trainable params: 0\n",
      "_________________________________________________________________\n"
     ]
    }
   ],
   "source": [
    "from keras.models import Sequential\n",
    "from keras.layers import Activation,Dense,Dropout\n",
    "\n",
    "\n",
    "model=Sequential()\n",
    "\n",
    "# 1st Layer\n",
    "model.add(Dense(5000,input_shape=(5000,)))\n",
    "model.add(Activation('sigmoid'))\n",
    "model.add(Dropout(0.5))\n",
    "\n",
    "# 2nd Layer\n",
    "model.add(Dense(1000))\n",
    "model.add(Activation('relu'))\n",
    "model.add(Dropout(0.5))\n",
    "          \n",
    "# 3rd Layer\n",
    "model.add(Dense(2))\n",
    "model.add(Activation('sigmoid'))\n",
    "\n",
    "model.summary()"
   ]
  },
  {
   "cell_type": "code",
   "execution_count": 80,
   "metadata": {},
   "outputs": [
    {
     "name": "stdout",
     "output_type": "stream",
     "text": [
      "Train on 6291 samples, validate on 700 samples\n",
      "Epoch 1/5\n",
      "6291/6291 [==============================] - 25s 4ms/step - loss: 0.7553 - acc: 0.5144 - val_loss: 0.6878 - val_acc: 0.5671\n",
      "Epoch 2/5\n",
      "6291/6291 [==============================] - 28s 4ms/step - loss: 0.7026 - acc: 0.5204 - val_loss: 0.6877 - val_acc: 0.5771\n",
      "Epoch 3/5\n",
      "6291/6291 [==============================] - 23s 4ms/step - loss: 0.6973 - acc: 0.5260 - val_loss: 0.6872 - val_acc: 0.5771\n",
      "Epoch 4/5\n",
      "6291/6291 [==============================] - 26s 4ms/step - loss: 0.6948 - acc: 0.5274 - val_loss: 0.6876 - val_acc: 0.5771\n",
      "Epoch 5/5\n",
      "6291/6291 [==============================] - 20s 3ms/step - loss: 0.6926 - acc: 0.5311 - val_loss: 0.6876 - val_acc: 0.5771\n"
     ]
    }
   ],
   "source": [
    "from keras.utils import np_utils \n",
    "model.compile(loss='categorical_crossentropy',optimizer='sgd',metrics=['accuracy'])\n",
    "\n",
    "history=model.fit(standardized_data,np_utils.to_categorical(labels, 2) ,batch_size=1000,epochs=5,verbose=1,validation_split=0.1)"
   ]
  },
  {
   "cell_type": "code",
   "execution_count": null,
   "metadata": {},
   "outputs": [],
   "source": []
  }
 ],
 "metadata": {
  "kernelspec": {
   "display_name": "Python 3",
   "language": "python",
   "name": "python3"
  },
  "language_info": {
   "codemirror_mode": {
    "name": "ipython",
    "version": 3
   },
   "file_extension": ".py",
   "mimetype": "text/x-python",
   "name": "python",
   "nbconvert_exporter": "python",
   "pygments_lexer": "ipython3",
   "version": "3.6.5"
  }
 },
 "nbformat": 4,
 "nbformat_minor": 2
}
