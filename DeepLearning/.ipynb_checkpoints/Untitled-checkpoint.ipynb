{
 "cells": [
  {
   "cell_type": "code",
   "execution_count": 14,
   "metadata": {},
   "outputs": [
    {
     "name": "stdout",
     "output_type": "stream",
     "text": [
      "(6991, 11)\n"
     ]
    }
   ],
   "source": [
    "import sqlite3\n",
    "import pandas as pd\n",
    "\n",
    "con = sqlite3.connect('C:\\\\Users\\\\Mekakris\\\\Documents\\\\AC\\\\Prautise\\\\deeplearnig.sqlite')\n",
    "\n",
    "data = pd.read_sql_query(\"select * from PractiseCleanedReviews where score!=3\",con)\n",
    "\n",
    "print(data.shape)"
   ]
  },
  {
   "cell_type": "markdown",
   "metadata": {},
   "source": [
    "# Apply tfidf and get the standard data for the model"
   ]
  },
  {
   "cell_type": "code",
   "execution_count": 15,
   "metadata": {},
   "outputs": [],
   "source": [
    "from sklearn.feature_extraction.text import TfidfVectorizer\n",
    "from sklearn.manifold import TSNE\n",
    "import numpy as np\n",
    "from sklearn.preprocessing import StandardScaler\n",
    "\n",
    "\n",
    "count_vect = TfidfVectorizer(ngram_range=(1,2),max_features=5000)# -> this is for normal text vector\\\n",
    "\n",
    "labels=data['Score'].values\n",
    "\n",
    "final=count_vect.fit_transform(data['Text'].values)\n",
    "standardized_data = StandardScaler(with_mean=False).fit_transform(final)\\\n"
   ]
  },
  {
   "cell_type": "markdown",
   "metadata": {},
   "source": [
    "# Keras with TF-IDF"
   ]
  },
  {
   "cell_type": "code",
   "execution_count": 17,
   "metadata": {},
   "outputs": [
    {
     "name": "stdout",
     "output_type": "stream",
     "text": [
      "(6991, 5000)\n"
     ]
    }
   ],
   "source": [
    "print(standardized_data.shape)"
   ]
  },
  {
   "cell_type": "code",
   "execution_count": 23,
   "metadata": {},
   "outputs": [],
   "source": [
    "from keras.models import Sequential\n",
    "from keras.layers import Activation,Dense,Dropout\n",
    "\n",
    "\n",
    "model=Sequential()\n",
    "\n",
    "# 1st Layer\n",
    "model.add(Dense(5000,input_shape=standardized_data.shape))\n",
    "model.add(Activation('relu'))\n",
    "model.add(Dropout(0.3))\n",
    "\n",
    "# 2nd Layer\n",
    "model.add(Dense(500)\n",
    "model.add(Activation('relu'))\n",
    "model.add(Dropout(0.3))\n",
    "          \n",
    "# 3rd Layer\n",
    "model.add(Dense(500)\n",
    "model.add(Activation('relu'))\n",
    "model.add(Dropout(0.3))\n",
    "          \n",
    "model.compile()"
   ]
  },
  {
   "cell_type": "code",
   "execution_count": null,
   "metadata": {},
   "outputs": [],
   "source": []
  }
 ],
 "metadata": {
  "kernelspec": {
   "display_name": "Python 3",
   "language": "python",
   "name": "python3"
  },
  "language_info": {
   "codemirror_mode": {
    "name": "ipython",
    "version": 3
   },
   "file_extension": ".py",
   "mimetype": "text/x-python",
   "name": "python",
   "nbconvert_exporter": "python",
   "pygments_lexer": "ipython3",
   "version": "3.6.4"
  }
 },
 "nbformat": 4,
 "nbformat_minor": 2
}
