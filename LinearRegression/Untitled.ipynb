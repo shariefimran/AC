{
 "cells": [
  {
   "cell_type": "markdown",
   "metadata": {},
   "source": [
    "# Linear Regression is the actual regression\n",
    "\n",
    "# This is also called Ordinary least square or Leniar Least square\n",
    "\n",
    "In Linear regression we try to find a line to fit the data as best  as possible\n",
    "\n",
    "Similar to Y=mx+c where goal is to find m and c(c is intercept) -> In 2d\n",
    "\n",
    "in 3d Y=w1xi1+w2*xi2+w0\n",
    "\n",
    "\n",
    "This can be understood in Geometry and probaility and loss fuction\n",
    "\n",
    "In regression there is not right/worng. Its loss. Error is a real value.\n",
    "\n",
    "We will use parabola to get loss. As parabola loss = y=x^2\n",
    "\n",
    "Square loss -> standard leniar regression\n",
    "\n",
    "Out lier has more impact as it has square\n",
    "\n",
    "Remove outlier (which mean points far away from line)\n",
    "\n",
    "We do repeatedly by looping model and remove outliers\n",
    "\n",
    "This techniqe is called ransaque->fit model and remove outliers and again train and remove outlier till there are no outliers\n",
    "\n"
   ]
  },
  {
   "cell_type": "code",
   "execution_count": null,
   "metadata": {},
   "outputs": [],
   "source": []
  }
 ],
 "metadata": {
  "kernelspec": {
   "display_name": "Python 3",
   "language": "python",
   "name": "python3"
  },
  "language_info": {
   "codemirror_mode": {
    "name": "ipython",
    "version": 3
   },
   "file_extension": ".py",
   "mimetype": "text/x-python",
   "name": "python",
   "nbconvert_exporter": "python",
   "pygments_lexer": "ipython3",
   "version": "3.6.4"
  }
 },
 "nbformat": 4,
 "nbformat_minor": 2
}
