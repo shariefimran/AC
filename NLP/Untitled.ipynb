{
 "cells": [
  {
   "cell_type": "code",
   "execution_count": 12,
   "metadata": {},
   "outputs": [
    {
     "name": "stdout",
     "output_type": "stream",
     "text": [
      "natural language\n",
      "machine logical\n",
      "frequently\n",
      "perception dialog\n",
      "thereof\n",
      "combination\n"
     ]
    }
   ],
   "source": [
    "from gensim.summarization import keywords\n",
    "from __future__ import division\n",
    "#keywords(data_lemmatized)\n",
    "\n",
    "import gensim\n",
    "\n",
    "\n",
    "\n",
    "text='''Challenges in natural language processing frequently involve speech recognition, natural language understanding, natural language\n",
    "        generation (frequently from formal, machine-readable logical forms), connecting language and machine perception, dialog systems, or some\n",
    "        combination thereof.'''\n",
    "\n",
    "print(keywords(text,ratio=0.5))\n"
   ]
  },
  {
   "cell_type": "code",
   "execution_count": 15,
   "metadata": {},
   "outputs": [
    {
     "data": {
      "text/plain": [
       "['krishna love', 'love', 'like', 'hai']"
      ]
     },
     "execution_count": 15,
     "metadata": {},
     "output_type": "execute_result"
    }
   ],
   "source": [
    "from rake_nltk import Rake\n",
    "\n",
    "r = Rake() # Uses stopwords for english from NLTK, and all puntuation characters.\n",
    "\n",
    "r.extract_keywords_from_text(text)\n",
    "\n",
    "r.get_ranked_phrases()\n",
    "\n",
    "\n",
    "r.extract_keywords_from_text('Hai this is krishna love. I like and i love you')\n",
    "\n",
    "r.get_ranked_phrases()"
   ]
  },
  {
   "cell_type": "raw",
   "metadata": {},
   "source": []
  }
 ],
 "metadata": {
  "kernelspec": {
   "display_name": "Python 3",
   "language": "python",
   "name": "python3"
  },
  "language_info": {
   "codemirror_mode": {
    "name": "ipython",
    "version": 3
   },
   "file_extension": ".py",
   "mimetype": "text/x-python",
   "name": "python",
   "nbconvert_exporter": "python",
   "pygments_lexer": "ipython3",
   "version": "3.6.4"
  }
 },
 "nbformat": 4,
 "nbformat_minor": 2
}
