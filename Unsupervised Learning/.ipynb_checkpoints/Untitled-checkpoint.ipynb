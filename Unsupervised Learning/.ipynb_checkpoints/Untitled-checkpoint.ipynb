{
 "cells": [
  {
   "cell_type": "markdown",
   "metadata": {},
   "source": [
    "# Clustering\n",
    "\n",
    "Clustering is a -> Un supervised learning\n",
    "\n",
    "In Clustering there is no Yi. Its just bunch of points and we need to clsuster them.\n",
    "\n",
    "Classification and algo-> Supervised\n",
    "Here there is Yi and it will always superivse us.\n",
    "\n",
    "\n",
    "# Methods for Clustering\n",
    "\n",
    "Minimise inter distance of cluster and Maximise Inter distane\n",
    "\n",
    "# Algorithm\n",
    "\n",
    "    Select K Ramdom centroids and assign each point to k centroids\n",
    "    calculate centroids once again\n",
    "    re assign points to new centroids\n",
    "    Repeat this until there no much change in centroids\n",
    "    \n",
    "    Instead of K first Pick 1 then select farthest point and pick 3rd farth from 1st and 2nd\n",
    "\n",
    "# Determine the right K\n",
    "    -> Domain Knowledge\n",
    "    -> Elbow method /Knee Method\n",
    "\n",
    "# Limitations\n",
    "\n",
    "    -> Clusters of same size\n",
    "    -> Clusters of similar density\n",
    "    -> Cant get non-convex shapes\n",
    "    -> Problem with outlier\n",
    " \n",
    " # How to overcome\n",
    "     -> Go for more K and group them to get large size.\n",
    "     \n",
    "# K Medoids Algorithm\n",
    "\n",
    "\n",
    "# Time Complexity\n",
    "    -> o(nkdi)\n",
    "    -> O(nd)"
   ]
  }
 ],
 "metadata": {
  "kernelspec": {
   "display_name": "Python 3",
   "language": "python",
   "name": "python3"
  },
  "language_info": {
   "codemirror_mode": {
    "name": "ipython",
    "version": 3
   },
   "file_extension": ".py",
   "mimetype": "text/x-python",
   "name": "python",
   "nbconvert_exporter": "python",
   "pygments_lexer": "ipython3",
   "version": "3.6.4"
  }
 },
 "nbformat": 4,
 "nbformat_minor": 2
}
