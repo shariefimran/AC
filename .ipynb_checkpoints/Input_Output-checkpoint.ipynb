{
 "cells": [
  {
   "cell_type": "code",
   "execution_count": null,
   "metadata": {
    "collapsed": true
   },
   "outputs": [],
   "source": [
    "a=10;b=20\n",
    "\n",
    "print(\"cost of a is {} and b is {}\".format(a,b))\n",
    "\n",
    "print(\"cost of a is {1} and b is {0}\".format(a,b))\n",
    "\n",
    "print(\"cost of a is {a} and b is {b}\".format(\"a\"=a,\"b\"=b))"
   ]
  }
 ],
 "metadata": {
  "kernelspec": {
   "display_name": "Python 3",
   "language": "python",
   "name": "python3"
  }
 },
 "nbformat": 4,
 "nbformat_minor": 2
}
