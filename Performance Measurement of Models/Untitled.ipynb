{
 "cells": [
  {
   "cell_type": "markdown",
   "metadata": {},
   "source": [
    "Performance measure of models\n",
    "\n",
    "# Accuracy\n",
    "\n",
    "#Correctly classified/total points\n",
    "\n",
    "Accuracy=1 good and =0 is bad\n",
    "\n",
    "This is not usefull when the data is imbalanced.(because dumb model gives the more accuracy as knn will classify into max share of class)\n",
    "So never use this measure\n",
    "\n",
    "When modals return probability accuracy is not good"
   ]
  },
  {
   "cell_type": "markdown",
   "metadata": {},
   "source": [
    "# Confusion Matrix\n",
    "\n",
    "Actual label and predicted values in a matrix form \n",
    "Wont work for probability scores\n",
    "\n",
    "\n",
    "Prinipal diagnol elements should be high\n",
    "\n",
    "For biclassification Problem \n",
    "\n",
    "TP->True Positive \n",
    "TN_> True Negative\n",
    "\n",
    "TPR-> Should be high -> TP/total P\n",
    "TNR-> Should be high -> TN/Total Neg\n",
    "\n",
    "FPR-> Should be low \n",
    "FNR-> Should be low \n"
   ]
  },
  {
   "cell_type": "markdown",
   "metadata": {},
   "source": [
    "# Precision and Recall"
   ]
  },
  {
   "cell_type": "code",
   "execution_count": null,
   "metadata": {},
   "outputs": [],
   "source": [
    "Precision -> TP/TP+FP\n",
    "Recall-> TP/P\n",
    "\n",
    "Both are useful when we are fouces in +ve call\n",
    "\n",
    "\n",
    "F1 Score\n",
    "\n",
    "F1->2((Recall*PR)/(PR+RECALL)) - > Mathematically Harmonic Mean"
   ]
  },
  {
   "cell_type": "markdown",
   "metadata": {},
   "source": [
    "# ROC=> Receiver Operating Curve \n",
    "Generates probability for each tow and each time we classify with 1 where\n",
    "training y >= tow. Like this we will get n Tows. In all scenarios we will classify and test TFN,FPN.. \n",
    "This is useful only for binary classification\n",
    "AUC=> Actual area under curve"
   ]
  },
  {
   "cell_type": "markdown",
   "metadata": {},
   "source": [
    "# Log Loss"
   ]
  },
  {
   "cell_type": "markdown",
   "metadata": {},
   "source": [
    "It uses the actual values"
   ]
  },
  {
   "cell_type": "markdown",
   "metadata": {},
   "source": [
    "Refer formula for logloss. Works for binary classification and muticlass"
   ]
  },
  {
   "cell_type": "markdown",
   "metadata": {},
   "source": [
    "Smaller the log loss better the model\n",
    "Con: Hard to interpret as  the log loss is b/w 0 and infinity"
   ]
  },
  {
   "cell_type": "markdown",
   "metadata": {},
   "source": [
    "# Coefficient of Determination"
   ]
  },
  {
   "cell_type": "markdown",
   "metadata": {},
   "source": [
    "Refer Notes. R^2 near to 1 model is best. \n",
    "0 to 1 like random model\n",
    "If -ve then worst model\n",
    "\n",
    "Problem with R^2"
   ]
  },
  {
   "cell_type": "markdown",
   "metadata": {},
   "source": [
    "# Median absolute deviation"
   ]
  },
  {
   "cell_type": "markdown",
   "metadata": {},
   "source": [
    "Use median and MAD  to use for ei calculation. In case of outliers use median. "
   ]
  },
  {
   "cell_type": "markdown",
   "metadata": {},
   "source": [
    "# Distrbution of errors"
   ]
  },
  {
   "cell_type": "code",
   "execution_count": null,
   "metadata": {},
   "outputs": [],
   "source": []
  }
 ],
 "metadata": {
  "kernelspec": {
   "display_name": "Python 3",
   "language": "python",
   "name": "python3"
  },
  "language_info": {
   "codemirror_mode": {
    "name": "ipython",
    "version": 3
   },
   "file_extension": ".py",
   "mimetype": "text/x-python",
   "name": "python",
   "nbconvert_exporter": "python",
   "pygments_lexer": "ipython3",
   "version": "3.6.4"
  }
 },
 "nbformat": 4,
 "nbformat_minor": 2
}
